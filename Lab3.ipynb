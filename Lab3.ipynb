{
 "cells": [
  {
   "cell_type": "markdown",
   "metadata": {
    "id": "0z3KlfKDn4_K"
   },
   "source": [
    "# Лабораторная работа 3. \n",
    "# Сетевые алгоритмы. Динамические алгоритмы поиска путей.\n"
   ]
  },
  {
   "cell_type": "markdown",
   "metadata": {
    "id": "96Gi_LEvmSVH"
   },
   "source": [
    "## Выполнил студент группы ФИО ГРУППА\n",
    "***"
   ]
  },
  {
   "cell_type": "markdown",
   "metadata": {
    "id": "GjdIp8aToKIe"
   },
   "source": [
    "### Задание\n",
    "\n",
    "1.  Реализовать алгоритм поиска кратчайшего расстояния между двумя вершинами ориентированного взвешенного графа в соответствии с вариантом. \n",
    "\n",
    "2.  Предусмотреть задание графа в виде матрицы смежности/инцидентности, читаемой из файла, либо графически с помощью пользовательского интерфейса. \n",
    "\n",
    "3.  Разработать графический интерфейс пользователя с визуализацией графа и отображением кратчайшего расстояния между задаваемыми пользователем вершинами.\n",
    "\n",
    "4. По результатам работы проанализировать временную сложность работы заданного алгоритма в зависимости от числа узлов и ребер графа.\n",
    "Данные представить в виде таблицы.\n",
    "\n"
   ]
  },
  {
   "cell_type": "markdown",
   "metadata": {
    "id": "LhhUXrAmotIA"
   },
   "source": [
    "### Алгоритмы:\n",
    "\n",
    "Алгоритм Флойда-Уоршелла| Алгоритм Дейкстры | Алгоритм Беллмана-Форда | Алгоритм Джонсона| Алгоритм Левита | Алгоритм Йена\n",
    "\n",
    "флойд o(n**3) - количество циклов по числу вершин, возможность использования отрциательных значений для ребер (но не отриц циклов) , сначала ищет кратчайший путь а потом другие через промежуточные вершины\n",
    "декстра (O((V + E) log V)) - поддерживает только полодит знач для графа берет и сравнивает знач до следующих вершин где меньше туда и идет\n",
    "Беллмана-Форда  O(V·E) - большая сложность проходит циклами v - 1(кол -во вершин) по сути декстра но работает с отриц знач и перепроверяет все возмож варианты(с перезаписью если лучше)\n",
    "Джонсона -  ипользует комбинацию Беллмана-Форда + Дейкстры с небольшим трюком: перевзвешивание рёбер (reweighting), чтобы все рёбра стали положительными — и тогда можно безопасно использовать Дейкстру.\n",
    "левита -  это алгоритмы декстры который умеет откатываться назад если нашел более оптимальный путь\n",
    "\n",
    "йена - Сначала находит обычный кратчайший путь (например, с помощью Дейкстры) — это путь №1.\n",
    "\n",
    "Потом по очереди \"сворачивает\" с найденного пути, чтобы найти другие варианты:\n",
    "\n",
    "Берёт начальную часть пути (root),\n",
    "\n",
    "Убирает одно из рёбер, чтобы пройти по-другому (spur),\n",
    "\n",
    "Склеивает новую дорогу и сохраняет её.\n",
    "\n",
    "Из всех новых вариантов выбирает самый короткий — это путь №2.\n",
    "\n",
    "Повторяет процесс, пока не найдёт все k путей.\n"
   ]
  },
  {
   "cell_type": "markdown",
   "metadata": {
    "id": "Wggfn8l7nG72"
   },
   "source": [
    "### Выполнение:"
   ]
  },
  {
   "cell_type": "code",
   "execution_count": null,
   "metadata": {
    "id": "681a95mZnOSa"
   },
   "outputs": [],
   "source": [
    "import tkinter as tk\n",
    "from tkinter import filedialog, messagebox, ttk\n",
    "import networkx as nx\n",
    "import matplotlib.pyplot as plt\n",
    "from matplotlib.backends.backend_tkagg import FigureCanvasTkAgg\n",
    "import time\n",
    "\n",
    "class GraphApp:\n",
    "    def __init__(self, root):\n",
    "        self.root = root\n",
    "        self.root.title(\"Поиск кратчайшего пути — Алгоритм Дейкстры\")\n",
    "\n",
    "        self.graph = nx.DiGraph()\n",
    "\n",
    "        self.setup_ui()\n",
    "\n",
    "    def setup_ui(self):\n",
    "        control_frame = tk.Frame(self.root)\n",
    "        control_frame.pack(side=tk.TOP, fill=tk.X)\n",
    "\n",
    "        tk.Button(control_frame, text=\"Загрузить граф\", command=self.load_graph).pack(side=tk.LEFT)\n",
    "        tk.Label(control_frame, text=\"Начальная вершина:\").pack(side=tk.LEFT)\n",
    "        self.start_entry = tk.Entry(control_frame, width=5)\n",
    "        self.start_entry.pack(side=tk.LEFT)\n",
    "\n",
    "        tk.Label(control_frame, text=\"Конечная вершина:\").pack(side=tk.LEFT)\n",
    "        self.end_entry = tk.Entry(control_frame, width=5)\n",
    "        self.end_entry.pack(side=tk.LEFT)\n",
    "\n",
    "        tk.Button(control_frame, text=\"Найти путь\", command=self.find_shortest_path).pack(side=tk.LEFT)\n",
    "        \n",
    "        # веришины\n",
    "        self.figure = plt.Figure(figsize=(6, 6))\n",
    "        self.ax = self.figure.add_subplot(111)\n",
    "        self.canvas = FigureCanvasTkAgg(self.figure, self.root)\n",
    "        self.canvas.get_tk_widget().pack(side=tk.TOP, fill=tk.BOTH, expand=1)\n",
    "\n",
    "    def load_graph(self):\n",
    "        file_path = filedialog.askopenfilename()\n",
    "        if not file_path:\n",
    "            return\n",
    "\n",
    "        self.graph.clear()\n",
    "        with open(file_path, 'r') as f:\n",
    "            lines = f.readlines()\n",
    "            for i, line in enumerate(lines):\n",
    "                weights = list(map(int, line.strip().split()))\n",
    "                for j, weight in enumerate(weights):\n",
    "                    if weight != 0:\n",
    "                        self.graph.add_edge(str(i), str(j), weight=weight)\n",
    "\n",
    "        self.draw_graph()\n",
    "\n",
    "    def draw_graph(self, path_edges=None):\n",
    "        self.ax.clear()\n",
    "        pos = nx.spring_layout(self.graph)\n",
    "        edge_labels = nx.get_edge_attributes(self.graph, 'weight')\n",
    "        \n",
    "        nx.draw(self.graph, pos, ax=self.ax, with_labels=True, node_color='lightblue', edge_color='gray')\n",
    "        nx.draw_networkx_edge_labels(self.graph, pos, edge_labels=edge_labels, ax=self.ax)\n",
    "\n",
    "        if path_edges:\n",
    "            nx.draw_networkx_edges(self.graph, pos, edgelist=path_edges, edge_color='red', width=2, ax=self.ax)\n",
    "\n",
    "        self.canvas.draw()\n",
    "\n",
    "    def find_shortest_path(self):\n",
    "        start = self.start_entry.get()\n",
    "        end = self.end_entry.get()\n",
    "        if start not in self.graph.nodes or end not in self.graph.nodes:\n",
    "            messagebox.showerror(\"Ошибка\", \"Некорректные вершины\")\n",
    "            return\n",
    "\n",
    "        try:\n",
    "            start_time = time.time()\n",
    "            path = nx.dijkstra_path(self.graph, source=start, target=end, weight='weight')\n",
    "            total_weight = nx.dijkstra_path_length(self.graph, source=start, target=end, weight='weight')\n",
    "            elapsed_time = time.time() - start_time\n",
    "\n",
    "            path_edges = list(zip(path, path[1:])) \n",
    "            self.draw_graph(path_edges)\n",
    "            messagebox.showinfo(\"Результат\", f\"Кратчайший путь: {' → '.join(path)}\\nДлина: {total_weight}\\nВремя: {elapsed_time:.6f} сек\")\n",
    "\n",
    "        except nx.NetworkXNoPath:\n",
    "            messagebox.showerror(\"Ошибка\", \"Путь не найден\")\n",
    "\n",
    "\n",
    "if __name__ == \"__main__\":\n",
    "    root = tk.Tk()\n",
    "    app = GraphApp(root)\n",
    "    root.mainloop()\n"
   ]
  },
  {
   "cell_type": "markdown",
   "metadata": {
    "id": "diOb-K7LnO5a"
   },
   "source": [
    "### Вывод"
   ]
  }
 ],
 "metadata": {
  "colab": {
   "provenance": [
    {
     "file_id": "1PB29AfCQqtCPpQJrN1jpaKF1cw_5iEo0",
     "timestamp": 1679127006477
    }
   ]
  },
  "kernelspec": {
   "display_name": "venv",
   "language": "python",
   "name": "python3"
  },
  "language_info": {
   "codemirror_mode": {
    "name": "ipython",
    "version": 3
   },
   "file_extension": ".py",
   "mimetype": "text/x-python",
   "name": "python",
   "nbconvert_exporter": "python",
   "pygments_lexer": "ipython3",
   "version": "3.12.3"
  }
 },
 "nbformat": 4,
 "nbformat_minor": 0
}
